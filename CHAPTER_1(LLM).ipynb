{
  "nbformat": 4,
  "nbformat_minor": 0,
  "metadata": {
    "colab": {
      "provenance": [],
      "authorship_tag": "ABX9TyMWUt8Gafk/cthCaJ+6pJFm"
    },
    "kernelspec": {
      "name": "python3",
      "display_name": "Python 3"
    },
    "language_info": {
      "name": "python"
    }
  },
  "cells": [
    {
      "cell_type": "markdown",
      "source": [
        "# **Variables**"
      ],
      "metadata": {
        "id": "96s0GgFBXUVu"
      }
    },
    {
      "cell_type": "code",
      "source": [
        "marks = 100 #integer\n",
        "miles = 1000.0 #float\n",
        "name = 'Abdullah'\n",
        "name1 = \"Abdullah Khan\""
      ],
      "metadata": {
        "id": "UjtLlRvPXY35"
      },
      "execution_count": 1,
      "outputs": []
    },
    {
      "cell_type": "code",
      "source": [
        "print(marks)\n",
        "print(miles)\n",
        "print(name)\n",
        "print(name1)"
      ],
      "metadata": {
        "colab": {
          "base_uri": "https://localhost:8080/"
        },
        "id": "GUlQFpwKYFtK",
        "outputId": "0416153c-5752-4e3b-b7c8-7c32b8e95311"
      },
      "execution_count": 2,
      "outputs": [
        {
          "output_type": "stream",
          "name": "stdout",
          "text": [
            "100\n",
            "1000.0\n",
            "Abdullah\n",
            "Abdullah Khan\n"
          ]
        }
      ]
    },
    {
      "cell_type": "code",
      "source": [
        "marks = 100\n",
        "marks = 1000\n",
        "print(marks)"
      ],
      "metadata": {
        "colab": {
          "base_uri": "https://localhost:8080/"
        },
        "id": "lm6E-enTYXwj",
        "outputId": "26b4e635-1bb5-41f1-ac6b-4ab791833d9c"
      },
      "execution_count": 3,
      "outputs": [
        {
          "output_type": "stream",
          "name": "stdout",
          "text": [
            "1000\n"
          ]
        }
      ]
    },
    {
      "cell_type": "markdown",
      "source": [
        "# **Variable Names**"
      ],
      "metadata": {
        "id": "2uUGDFPEYyXK"
      }
    },
    {
      "cell_type": "code",
      "source": [
        "name = \" \"\n",
        "1=\n",
        "#name1, name2, name3"
      ],
      "metadata": {
        "colab": {
          "base_uri": "https://localhost:8080/",
          "height": 143
        },
        "id": "ylN_bCtMY3aU",
        "outputId": "f3607ed7-a262-4dd5-9672-5e6d21cbf467"
      },
      "execution_count": 5,
      "outputs": [
        {
          "output_type": "error",
          "ename": "SyntaxError",
          "evalue": "ignored",
          "traceback": [
            "\u001b[0;36m  File \u001b[0;32m\"<ipython-input-5-945db5ae5c93>\"\u001b[0;36m, line \u001b[0;32m2\u001b[0m\n\u001b[0;31m    1=\u001b[0m\n\u001b[0m    ^\u001b[0m\n\u001b[0;31mSyntaxError\u001b[0m\u001b[0;31m:\u001b[0m cannot assign to literal\n"
          ]
        }
      ]
    },
    {
      "cell_type": "code",
      "source": [
        "my_variable = 10\n",
        "my_Var = 20\n",
        "_my_var = 30"
      ],
      "metadata": {
        "id": "IxAfTisYZJlD"
      },
      "execution_count": 4,
      "outputs": []
    },
    {
      "cell_type": "code",
      "source": [
        "age = 25 #integer\n",
        "height = 5.11 #float/double\n",
        "message = \"Hi\"\n",
        "number = \"1\"\n",
        "my_list = [1, 2, 3, 4, 45.0, 'Abdullah'] #list"
      ],
      "metadata": {
        "id": "0OEbCYN3ZWXG"
      },
      "execution_count": 7,
      "outputs": []
    },
    {
      "cell_type": "markdown",
      "source": [
        "# **Assignments**"
      ],
      "metadata": {
        "id": "z-ihcxfsaAaP"
      }
    },
    {
      "cell_type": "code",
      "source": [
        "name = 'Abdullah'\n",
        "a=b=c= 1\n",
        "print(a,b,c)\n",
        "a, b, c = 1, \"2\", 34.0\n",
        "print(a, b, c)\n"
      ],
      "metadata": {
        "colab": {
          "base_uri": "https://localhost:8080/"
        },
        "id": "IA_OzDY6aFSp",
        "outputId": "5b844a81-8f38-4668-84c9-671776f9ba25"
      },
      "execution_count": 8,
      "outputs": [
        {
          "output_type": "stream",
          "name": "stdout",
          "text": [
            "1 1 1\n",
            "1 2 34.0\n"
          ]
        }
      ]
    },
    {
      "cell_type": "markdown",
      "source": [
        "# **More on String**"
      ],
      "metadata": {
        "id": "tsYiPo28ac-Z"
      }
    },
    {
      "cell_type": "code",
      "source": [
        "first_name = 'Abdullah'\n",
        "last_name = 'Khan'\n",
        "print(first_name + last_name)\n",
        "print(first_name + \" \" + last_name)\n",
        "\n",
        "full_name = first_name + \" \" + last_name\n",
        "print(full_name)\n",
        "\n",
        "#Multiplication\n",
        "\n",
        "print(first_name * 2 )"
      ],
      "metadata": {
        "colab": {
          "base_uri": "https://localhost:8080/"
        },
        "id": "PdcThPchahdn",
        "outputId": "7da30b69-5342-4a10-ae84-ea7a5e91d19a"
      },
      "execution_count": 12,
      "outputs": [
        {
          "output_type": "stream",
          "name": "stdout",
          "text": [
            "AbdullahKhan\n",
            "Abdullah Khan\n",
            "Abdullah Khan\n",
            "AbdullahAbdullah\n"
          ]
        }
      ]
    },
    {
      "cell_type": "code",
      "source": [
        "name = \"Mickey\"\n",
        "print(name[0])\n",
        "print(name[1])\n",
        "print(name[2:5])\n",
        "print(name[2:])"
      ],
      "metadata": {
        "colab": {
          "base_uri": "https://localhost:8080/"
        },
        "id": "Faj0qVWubE0Q",
        "outputId": "3721ddc0-8fe3-4e5b-cbe2-d7da3eb9e669"
      },
      "execution_count": 15,
      "outputs": [
        {
          "output_type": "stream",
          "name": "stdout",
          "text": [
            "M\n",
            "i\n",
            "cke\n",
            "ckey\n"
          ]
        }
      ]
    },
    {
      "cell_type": "markdown",
      "source": [
        "# **Lists**"
      ],
      "metadata": {
        "id": "CY0X8O_ObbMQ"
      }
    },
    {
      "cell_type": "code",
      "source": [
        "list1 = [1, 2, 3, 'khan', 23.0]\n",
        "print(list1*2)\n",
        "print(list1[0])\n",
        "print(list1[1])\n",
        "print(list1[2:5])\n",
        "print(list1[2:])"
      ],
      "metadata": {
        "colab": {
          "base_uri": "https://localhost:8080/"
        },
        "id": "Ewz3wCw-g_Nl",
        "outputId": "718d924d-3088-43e7-9fd5-52e1e3160997"
      },
      "execution_count": 16,
      "outputs": [
        {
          "output_type": "stream",
          "name": "stdout",
          "text": [
            "[1, 2, 3, 'khan', 23.0, 1, 2, 3, 'khan', 23.0]\n",
            "1\n",
            "2\n",
            "[3, 'khan', 23.0]\n",
            "[3, 'khan', 23.0]\n"
          ]
        }
      ]
    },
    {
      "cell_type": "code",
      "source": [
        "list_1 = [1, 2, 3, 4, 5, 'Abdullah']\n",
        "list_2 = [6, 7, 8, 9, 10, 'Khan']\n",
        "print(list_1 + list_2)\n",
        "\n",
        "updated_list = list_1 + list_2\n",
        "print('Updated List :', updated_list)"
      ],
      "metadata": {
        "colab": {
          "base_uri": "https://localhost:8080/"
        },
        "id": "M6ixz_i5hfLp",
        "outputId": "dda4d77c-9115-487d-fecf-c0357c42cf12"
      },
      "execution_count": 18,
      "outputs": [
        {
          "output_type": "stream",
          "name": "stdout",
          "text": [
            "[1, 2, 3, 4, 5, 'Abdullah', 6, 7, 8, 9, 10, 'Khan']\n",
            "Updated List : [1, 2, 3, 4, 5, 'Abdullah', 6, 7, 8, 9, 10, 'Khan']\n"
          ]
        }
      ]
    },
    {
      "cell_type": "markdown",
      "source": [
        "# **Tuple**"
      ],
      "metadata": {
        "id": "mYLAnzesh5Ly"
      }
    },
    {
      "cell_type": "code",
      "source": [
        "tuple_1 = (1, 2, 2.0, 'Abdullah Khan')\n",
        "print(tuple_1)\n",
        "print(tuple_1[2:5])"
      ],
      "metadata": {
        "colab": {
          "base_uri": "https://localhost:8080/"
        },
        "id": "qVjc7rQPh--L",
        "outputId": "33f379bf-88a6-4b2b-93b8-76127af1b448"
      },
      "execution_count": 20,
      "outputs": [
        {
          "output_type": "stream",
          "name": "stdout",
          "text": [
            "(1, 2, 2.0, 'Abdullah Khan')\n",
            "(2.0, 'Abdullah Khan')\n"
          ]
        }
      ]
    },
    {
      "cell_type": "markdown",
      "source": [
        "# **Dictionary**"
      ],
      "metadata": {
        "id": "MQyJAb_piM85"
      }
    },
    {
      "cell_type": "code",
      "source": [
        "#dict_1 = {'key : value}\n",
        "dict_1 = {'name' : 'Abdullah'}\n",
        "print(dict_1['name'])"
      ],
      "metadata": {
        "colab": {
          "base_uri": "https://localhost:8080/"
        },
        "id": "ANPpGmK4iQmp",
        "outputId": "144a154b-ad23-4b2e-918a-2eacc5684a71"
      },
      "execution_count": 21,
      "outputs": [
        {
          "output_type": "stream",
          "name": "stdout",
          "text": [
            "Abdullah\n"
          ]
        }
      ]
    },
    {
      "cell_type": "code",
      "source": [
        "dict_2 = {1 : 'One', \"float\" : 21.0}\n",
        "print(dict_2[1])\n",
        "print(dict_2['float'])"
      ],
      "metadata": {
        "colab": {
          "base_uri": "https://localhost:8080/"
        },
        "id": "FNVfinIHih0V",
        "outputId": "4fa4cb86-a448-46ba-82ea-d3a6bb5b853b"
      },
      "execution_count": 22,
      "outputs": [
        {
          "output_type": "stream",
          "name": "stdout",
          "text": [
            "One\n",
            "21.0\n"
          ]
        }
      ]
    }
  ]
}