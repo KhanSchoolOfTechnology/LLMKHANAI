{
  "cells": [
    {
      "cell_type": "markdown",
      "metadata": {
        "id": "3jJhbTnMycYp"
      },
      "source": [
        "# **Functions:**"
      ]
    },
    {
      "cell_type": "code",
      "execution_count": null,
      "metadata": {
        "id": "iwsMvm_fyqme"
      },
      "outputs": [],
      "source": [
        "def greet(name):\n",
        "  print(f'Hello {name}')"
      ]
    },
    {
      "cell_type": "code",
      "source": [
        "greet('Abdullah')\n",
        "greet('Haseeb')"
      ],
      "metadata": {
        "colab": {
          "base_uri": "https://localhost:8080/"
        },
        "id": "3XHzzyhFXFK3",
        "outputId": "a32f31a4-10a7-4db8-f46a-74677a12194f"
      },
      "execution_count": null,
      "outputs": [
        {
          "output_type": "stream",
          "name": "stdout",
          "text": [
            "Hello Abdullah\n",
            "Hello Haseeb\n"
          ]
        }
      ]
    },
    {
      "cell_type": "code",
      "source": [
        "def sum(a,b):\n",
        "  return a + b"
      ],
      "metadata": {
        "id": "ND6oCOXlXSpP"
      },
      "execution_count": null,
      "outputs": []
    },
    {
      "cell_type": "code",
      "source": [
        "sum_value = sum(12,13)\n",
        "print(sum_value)"
      ],
      "metadata": {
        "colab": {
          "base_uri": "https://localhost:8080/"
        },
        "id": "K5d-LlcCXWYW",
        "outputId": "417d0b39-ab71-4d65-f98a-e90c13bfd1e8"
      },
      "execution_count": null,
      "outputs": [
        {
          "output_type": "stream",
          "name": "stdout",
          "text": [
            "25\n"
          ]
        }
      ]
    },
    {
      "cell_type": "code",
      "source": [
        "def divide(a,b):\n",
        "  if b==0:\n",
        "    return 'Cannot Divide by 0'\n",
        "  else:\n",
        "    return a / b"
      ],
      "metadata": {
        "id": "dPYySsfuYPsJ"
      },
      "execution_count": null,
      "outputs": []
    },
    {
      "cell_type": "code",
      "source": [
        "divided_value = divide(10, 5)\n",
        "print(divided_value)"
      ],
      "metadata": {
        "colab": {
          "base_uri": "https://localhost:8080/"
        },
        "id": "wCLgucP5Ydk1",
        "outputId": "55f742c2-7b69-48eb-be2a-7df64eaf8ca3"
      },
      "execution_count": null,
      "outputs": [
        {
          "output_type": "stream",
          "name": "stdout",
          "text": [
            "2.0\n"
          ]
        }
      ]
    },
    {
      "cell_type": "markdown",
      "source": [
        "# **Default Parameters**"
      ],
      "metadata": {
        "id": "ouLOjGYDYoN9"
      }
    },
    {
      "cell_type": "code",
      "source": [
        "def greet(name, greeting = \"Hello\"):\n",
        "  print(f\"{greeting}!{name}\")"
      ],
      "metadata": {
        "id": "KWs2UbsgYshW"
      },
      "execution_count": null,
      "outputs": []
    },
    {
      "cell_type": "code",
      "source": [
        "greet('Abdullah')\n",
        "greet('Abdullah', 'Hi')"
      ],
      "metadata": {
        "colab": {
          "base_uri": "https://localhost:8080/"
        },
        "id": "X0TY7FvLY4l2",
        "outputId": "35118ca7-0d0e-4e2a-869e-97fe12c52021"
      },
      "execution_count": null,
      "outputs": [
        {
          "output_type": "stream",
          "name": "stdout",
          "text": [
            "Hello!Abdullah\n",
            "Hi!Abdullah\n"
          ]
        }
      ]
    },
    {
      "cell_type": "markdown",
      "source": [
        "# **Scope Of Variables**"
      ],
      "metadata": {
        "id": "AadiFFsaZWHu"
      }
    },
    {
      "cell_type": "code",
      "source": [
        "global_variable = 10\n",
        "\n",
        "def my_function():\n",
        "  local_variable = 5\n",
        "  print(global_variable)\n",
        "  print(local_variable)\n",
        "\n",
        "my_function()"
      ],
      "metadata": {
        "colab": {
          "base_uri": "https://localhost:8080/"
        },
        "id": "t2Inf8nhZZaG",
        "outputId": "90de5743-fe16-43d9-9564-55e854c34e98"
      },
      "execution_count": null,
      "outputs": [
        {
          "output_type": "stream",
          "name": "stdout",
          "text": [
            "10\n",
            "5\n"
          ]
        }
      ]
    },
    {
      "cell_type": "code",
      "source": [
        "print(local_variable)"
      ],
      "metadata": {
        "colab": {
          "base_uri": "https://localhost:8080/",
          "height": 179
        },
        "id": "y7eVHv4hZn3W",
        "outputId": "54485da0-3241-4cb2-f15a-5c2e9d894605"
      },
      "execution_count": null,
      "outputs": [
        {
          "output_type": "error",
          "ename": "NameError",
          "evalue": "ignored",
          "traceback": [
            "\u001b[0;31m---------------------------------------------------------------------------\u001b[0m",
            "\u001b[0;31mNameError\u001b[0m                                 Traceback (most recent call last)",
            "\u001b[0;32m<ipython-input-21-4563ff560c7e>\u001b[0m in \u001b[0;36m<cell line: 1>\u001b[0;34m()\u001b[0m\n\u001b[0;32m----> 1\u001b[0;31m \u001b[0mprint\u001b[0m\u001b[0;34m(\u001b[0m\u001b[0mlocal_variable\u001b[0m\u001b[0;34m)\u001b[0m\u001b[0;34m\u001b[0m\u001b[0;34m\u001b[0m\u001b[0m\n\u001b[0m",
            "\u001b[0;31mNameError\u001b[0m: name 'local_variable' is not defined"
          ]
        }
      ]
    },
    {
      "cell_type": "code",
      "source": [
        "print(global_variable)"
      ],
      "metadata": {
        "colab": {
          "base_uri": "https://localhost:8080/"
        },
        "id": "8KiL5ISUZyUf",
        "outputId": "602ad731-71f1-46de-ceab-238d7737edd6"
      },
      "execution_count": null,
      "outputs": [
        {
          "output_type": "stream",
          "name": "stdout",
          "text": [
            "10\n"
          ]
        }
      ]
    },
    {
      "cell_type": "markdown",
      "source": [
        "# **Calling Functions within Functions**"
      ],
      "metadata": {
        "id": "oX0tCBNqZ-lH"
      }
    },
    {
      "cell_type": "code",
      "source": [
        "def square(x):\n",
        "  return x * x"
      ],
      "metadata": {
        "id": "31gRcrA4aDon"
      },
      "execution_count": null,
      "outputs": []
    },
    {
      "cell_type": "code",
      "source": [
        "def square(x):\n",
        "    return x * x\n",
        "\n",
        "def cube(x):\n",
        "    return x * square(x)\n",
        "\n",
        "y = cube(12)\n",
        "print(y)\n"
      ],
      "metadata": {
        "colab": {
          "base_uri": "https://localhost:8080/"
        },
        "id": "6VkbDMCOaIqf",
        "outputId": "39632ad5-27ae-4a03-caa5-426ee93e5c21"
      },
      "execution_count": null,
      "outputs": [
        {
          "output_type": "stream",
          "name": "stdout",
          "text": [
            "1728\n"
          ]
        }
      ]
    },
    {
      "cell_type": "markdown",
      "source": [
        "# **Factorial**"
      ],
      "metadata": {
        "id": "ubxhR9w6nVIP"
      }
    },
    {
      "cell_type": "code",
      "source": [
        "def factorial(n):\n",
        "  if n == 0 :\n",
        "    return 1\n",
        "  else:\n",
        "    return n * factorial(n-1)\n",
        "\n",
        "result = factorial(5)\n",
        "print(result)"
      ],
      "metadata": {
        "colab": {
          "base_uri": "https://localhost:8080/"
        },
        "id": "7pVn4P4SnYJf",
        "outputId": "3c2667ee-b708-4bea-a6d5-57cada548e38"
      },
      "execution_count": null,
      "outputs": [
        {
          "output_type": "stream",
          "name": "stdout",
          "text": [
            "120\n"
          ]
        }
      ]
    }
  ],
  "metadata": {
    "colab": {
      "provenance": [],
      "authorship_tag": "ABX9TyNWBnbxRvbDKTXPEBMb5zCo"
    },
    "kernelspec": {
      "display_name": "Python 3",
      "name": "python3"
    },
    "language_info": {
      "name": "python"
    }
  },
  "nbformat": 4,
  "nbformat_minor": 0
}