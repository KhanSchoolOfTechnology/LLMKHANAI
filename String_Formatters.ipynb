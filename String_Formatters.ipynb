{
  "nbformat": 4,
  "nbformat_minor": 0,
  "metadata": {
    "colab": {
      "provenance": [],
      "authorship_tag": "ABX9TyP4uAZIRHjCI0qaLCUcPouM"
    },
    "kernelspec": {
      "name": "python3",
      "display_name": "Python 3"
    },
    "language_info": {
      "name": "python"
    }
  },
  "cells": [
    {
      "cell_type": "code",
      "execution_count": 1,
      "metadata": {
        "id": "FMDt776XrDGT",
        "colab": {
          "base_uri": "https://localhost:8080/"
        },
        "outputId": "499d5cc4-1682-4b71-dded-1e058c6df139"
      },
      "outputs": [
        {
          "output_type": "stream",
          "name": "stdout",
          "text": [
            "Hello Alice!. You are 30 years old\n"
          ]
        }
      ],
      "source": [
        "name = 'Alice'\n",
        "age = 30\n",
        "print('Hello %s!. You are %d years old'%(name, age))"
      ]
    },
    {
      "cell_type": "markdown",
      "source": [
        "# **2. str.format() method**"
      ],
      "metadata": {
        "id": "WN0hNrAPteue"
      }
    },
    {
      "cell_type": "code",
      "source": [
        "name = 'Bob'\n",
        "age = 25\n",
        "formatted_string = 'Hello {}! You are {} years old'.format(name, age)\n",
        "print(formatted_string)"
      ],
      "metadata": {
        "colab": {
          "base_uri": "https://localhost:8080/"
        },
        "id": "sLmpdamFtlPl",
        "outputId": "a8123994-1c5f-4c44-e0b9-13075eb09e2f"
      },
      "execution_count": 5,
      "outputs": [
        {
          "output_type": "stream",
          "name": "stdout",
          "text": [
            "Hello Bob! You are 25 years old\n"
          ]
        }
      ]
    },
    {
      "cell_type": "markdown",
      "source": [
        "# **f-strings(Formatted String Literals)**"
      ],
      "metadata": {
        "id": "kTPViFFjt2ol"
      }
    },
    {
      "cell_type": "code",
      "source": [
        "name = \"Charlie\"\n",
        "age = 28\n",
        "print(f\"Hello, {name}!, You are {age} years old\")"
      ],
      "metadata": {
        "colab": {
          "base_uri": "https://localhost:8080/"
        },
        "id": "_b4NIx8xt9Z2",
        "outputId": "9894fea7-3dce-4076-8213-9acad66ec83d"
      },
      "execution_count": 6,
      "outputs": [
        {
          "output_type": "stream",
          "name": "stdout",
          "text": [
            "Hello, Charlie!, You are 28 years old\n"
          ]
        }
      ]
    },
    {
      "cell_type": "code",
      "source": [
        "value = 3.14159\n",
        "formatted_float = f'Value: {value:.2f}'\n",
        "print(formatted_float)"
      ],
      "metadata": {
        "colab": {
          "base_uri": "https://localhost:8080/"
        },
        "id": "sxIpSKkLuJxd",
        "outputId": "bda974c8-dcd8-42b7-d837-552cb724b5ff"
      },
      "execution_count": 8,
      "outputs": [
        {
          "output_type": "stream",
          "name": "stdout",
          "text": [
            "Value: 3.14\n"
          ]
        }
      ]
    },
    {
      "cell_type": "code",
      "source": [
        "name = 'Khan'\n",
        "age = 21\n",
        "formatted_string = f\"Name: {name}, Age {age}\".format(a=age, n = name)\n",
        "print(formatted_string)"
      ],
      "metadata": {
        "colab": {
          "base_uri": "https://localhost:8080/"
        },
        "id": "zil0-2OxueDW",
        "outputId": "8de543cc-17cf-4f71-9b81-4add2e27ed3f"
      },
      "execution_count": 10,
      "outputs": [
        {
          "output_type": "stream",
          "name": "stdout",
          "text": [
            "Name: Khan, Age21\n"
          ]
        }
      ]
    }
  ]
}