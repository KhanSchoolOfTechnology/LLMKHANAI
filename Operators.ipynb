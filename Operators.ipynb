{
  "nbformat": 4,
  "nbformat_minor": 0,
  "metadata": {
    "colab": {
      "provenance": [],
      "authorship_tag": "ABX9TyPdzDX1dQ7BCjojY305LTpr"
    },
    "kernelspec": {
      "name": "python3",
      "display_name": "Python 3"
    },
    "language_info": {
      "name": "python"
    }
  },
  "cells": [
    {
      "cell_type": "markdown",
      "source": [
        "# **Operators**"
      ],
      "metadata": {
        "id": "z8DA_RXYSD6S"
      }
    },
    {
      "cell_type": "code",
      "source": [
        "a = 50\n",
        "b = 60\n",
        "print('a+b=', a + b)\n",
        "print('a-b', a-b)"
      ],
      "metadata": {
        "colab": {
          "base_uri": "https://localhost:8080/"
        },
        "id": "_QWri7d8SKM1",
        "outputId": "a9dd4199-b543-4eaf-cc3b-5e1d3f6c2733"
      },
      "execution_count": 1,
      "outputs": [
        {
          "output_type": "stream",
          "name": "stdout",
          "text": [
            "a+b= 110\n",
            "a-b -10\n"
          ]
        }
      ]
    },
    {
      "cell_type": "code",
      "source": [
        "a = 4\n",
        "b = 5\n",
        "print('a==b', a==b)\n",
        "print('a<b', a<b)\n",
        "print('a>=b', a>=b)\n",
        "print('a<=b', a<=b)"
      ],
      "metadata": {
        "colab": {
          "base_uri": "https://localhost:8080/"
        },
        "id": "HgeUXKgGSlfo",
        "outputId": "e642da83-6e51-45d1-f297-73324822c107"
      },
      "execution_count": 2,
      "outputs": [
        {
          "output_type": "stream",
          "name": "stdout",
          "text": [
            "a==b False\n",
            "a<b True\n",
            "a>=b False\n",
            "a<=b True\n"
          ]
        }
      ]
    },
    {
      "cell_type": "markdown",
      "source": [
        "# **Assignment Operators**"
      ],
      "metadata": {
        "id": "y8oSBByuS062"
      }
    },
    {
      "cell_type": "code",
      "source": [
        "c = 10\n",
        "print(c)\n",
        "c+=5\n",
        "print(c)\n",
        "c-=5\n",
        "print(c)\n",
        "c/=5\n",
        "print(c)\n",
        "\n"
      ],
      "metadata": {
        "colab": {
          "base_uri": "https://localhost:8080/"
        },
        "id": "prXB7ye0S5pj",
        "outputId": "5228eb58-7160-4ed6-939d-fe0d881f5467"
      },
      "execution_count": 4,
      "outputs": [
        {
          "output_type": "stream",
          "name": "stdout",
          "text": [
            "10\n",
            "15\n",
            "10\n",
            "2.0\n",
            "0.0\n"
          ]
        }
      ]
    },
    {
      "cell_type": "code",
      "source": [
        "list_1 = [1, 2, 3, 4,6, 10]\n",
        "if 11 not in list_1:\n",
        "  print('true')\n",
        "else:\n",
        "  print('False')"
      ],
      "metadata": {
        "colab": {
          "base_uri": "https://localhost:8080/"
        },
        "id": "SJPu7BifTYhW",
        "outputId": "3ada8b0a-ef7c-4d07-9ae4-c28a32d14a25"
      },
      "execution_count": 9,
      "outputs": [
        {
          "output_type": "stream",
          "name": "stdout",
          "text": [
            "true\n"
          ]
        }
      ]
    }
  ]
}