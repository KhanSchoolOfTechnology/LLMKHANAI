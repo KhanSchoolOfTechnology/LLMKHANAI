{
  "nbformat": 4,
  "nbformat_minor": 0,
  "metadata": {
    "colab": {
      "provenance": [],
      "authorship_tag": "ABX9TyP1zBriwISXgAQRA7we7q4l",
      "include_colab_link": true
    },
    "kernelspec": {
      "name": "python3",
      "display_name": "Python 3"
    },
    "language_info": {
      "name": "python"
    }
  },
  "cells": [
    {
      "cell_type": "markdown",
      "metadata": {
        "id": "view-in-github",
        "colab_type": "text"
      },
      "source": [
        "<a href=\"https://colab.research.google.com/github/KhanSchoolOfTechnology/LLMKHANAI/blob/main/GPT1.ipynb\" target=\"_parent\"><img src=\"https://colab.research.google.com/assets/colab-badge.svg\" alt=\"Open In Colab\"/></a>"
      ]
    },
    {
      "cell_type": "code",
      "source": [
        "!pip install openai"
      ],
      "metadata": {
        "colab": {
          "base_uri": "https://localhost:8080/"
        },
        "id": "vgLPStM5fXpe",
        "outputId": "998718c7-c70e-4ed9-e480-099414fc5327"
      },
      "execution_count": null,
      "outputs": [
        {
          "output_type": "stream",
          "name": "stdout",
          "text": [
            "Collecting openai\n",
            "  Downloading openai-0.28.0-py3-none-any.whl (76 kB)\n",
            "\u001b[2K     \u001b[90m━━━━━━━━━━━━━━━━━━━━━━━━━━━━━━━━━━━━━━━━\u001b[0m \u001b[32m76.5/76.5 kB\u001b[0m \u001b[31m1.8 MB/s\u001b[0m eta \u001b[36m0:00:00\u001b[0m\n",
            "\u001b[?25hRequirement already satisfied: requests>=2.20 in /usr/local/lib/python3.10/dist-packages (from openai) (2.31.0)\n",
            "Requirement already satisfied: tqdm in /usr/local/lib/python3.10/dist-packages (from openai) (4.66.1)\n",
            "Requirement already satisfied: aiohttp in /usr/local/lib/python3.10/dist-packages (from openai) (3.8.5)\n",
            "Requirement already satisfied: charset-normalizer<4,>=2 in /usr/local/lib/python3.10/dist-packages (from requests>=2.20->openai) (3.2.0)\n",
            "Requirement already satisfied: idna<4,>=2.5 in /usr/local/lib/python3.10/dist-packages (from requests>=2.20->openai) (3.4)\n",
            "Requirement already satisfied: urllib3<3,>=1.21.1 in /usr/local/lib/python3.10/dist-packages (from requests>=2.20->openai) (2.0.4)\n",
            "Requirement already satisfied: certifi>=2017.4.17 in /usr/local/lib/python3.10/dist-packages (from requests>=2.20->openai) (2023.7.22)\n",
            "Requirement already satisfied: attrs>=17.3.0 in /usr/local/lib/python3.10/dist-packages (from aiohttp->openai) (23.1.0)\n",
            "Requirement already satisfied: multidict<7.0,>=4.5 in /usr/local/lib/python3.10/dist-packages (from aiohttp->openai) (6.0.4)\n",
            "Requirement already satisfied: async-timeout<5.0,>=4.0.0a3 in /usr/local/lib/python3.10/dist-packages (from aiohttp->openai) (4.0.3)\n",
            "Requirement already satisfied: yarl<2.0,>=1.0 in /usr/local/lib/python3.10/dist-packages (from aiohttp->openai) (1.9.2)\n",
            "Requirement already satisfied: frozenlist>=1.1.1 in /usr/local/lib/python3.10/dist-packages (from aiohttp->openai) (1.4.0)\n",
            "Requirement already satisfied: aiosignal>=1.1.2 in /usr/local/lib/python3.10/dist-packages (from aiohttp->openai) (1.3.1)\n",
            "Installing collected packages: openai\n",
            "Successfully installed openai-0.28.0\n"
          ]
        }
      ]
    },
    {
      "cell_type": "code",
      "source": [
        "import openai"
      ],
      "metadata": {
        "id": "pqJupvHuhH0c"
      },
      "execution_count": null,
      "outputs": []
    },
    {
      "cell_type": "code",
      "source": [
        "import time"
      ],
      "metadata": {
        "id": "7QVv7rwjjixK"
      },
      "execution_count": null,
      "outputs": []
    },
    {
      "cell_type": "code",
      "source": [
        "requests_per_minute = 30  # Adjust as per OpenAI's rate limits\n",
        "request_interval = 60 / requests_per_minute\n",
        "\n",
        "def initialize_translation_bot():\n",
        "    print(\"English to Urdu Translation Bot (Type 'exit' to quit)\")\n",
        "    translate_to_urdu()\n",
        "\n",
        "def translate_to_urdu():\n",
        "    openai.api_key = api_key\n",
        "    conversation = [{\"role\": \"system\", \"content\": \"Translate english sentence to urdu\"}]\n",
        "    conversation_tokens = 0  # Keep track of the total tokens in the conversation\n",
        "    last_request_time = 0\n",
        "\n",
        "    while True:\n",
        "        user_input = input(\"You (English): \")\n",
        "        if user_input.lower() == 'exit':\n",
        "            break\n",
        "\n",
        "        # Check if adding the user input would exceed the model's limit\n",
        "        if conversation_tokens + len(user_input.split()) > 4096:\n",
        "            print(\"The conversation has reached the model's context limit. Resetting context.\")\n",
        "            conversation = [{\"role\": \"system\", \"content\": \"Translate english sentence to urdu\"}]\n",
        "            conversation_tokens = 0\n",
        "\n",
        "        # Handle rate limiting\n",
        "        current_time = time.time()\n",
        "        if current_time - last_request_time < request_interval:\n",
        "            sleep_time = request_interval - (current_time - last_request_time)\n",
        "            time.sleep(sleep_time)\n",
        "\n",
        "        urdu_translation = get_urdu_translation(conversation, user_input)\n",
        "        print(urdu_translation)\n",
        "\n",
        "        # Add the Urdu translation to the conversation\n",
        "        conversation.append({\"role\": \"user\", \"content\": user_input})\n",
        "        conversation_tokens += len(user_input.split())\n",
        "\n",
        "        conversation.append({\"role\": \"assistant\", \"content\": urdu_translation})\n",
        "        conversation_tokens += len(urdu_translation.split())\n",
        "\n",
        "        last_request_time = current_time\n",
        "\n",
        "def get_urdu_translation(conversation, english_text):\n",
        "    try:\n",
        "        response = openai.ChatCompletion.create(\n",
        "            model=\"gpt-3.5-turbo\",\n",
        "            messages=conversation + [{\"role\": \"user\", \"content\": english_text}],\n",
        "            max_tokens=60  # Adjust the token limit as needed\n",
        "        )\n",
        "\n",
        "        # Extract and return the Urdu translation from the response\n",
        "        return response['choices'][0]['message']['content']\n",
        "    except openai.error.OpenAIError as e:\n",
        "        print(f\"An error occurred: {e}\")\n",
        "        return \"Translation error.\""
      ],
      "metadata": {
        "id": "ewoMPng9fijt"
      },
      "execution_count": null,
      "outputs": []
    }
  ]
}