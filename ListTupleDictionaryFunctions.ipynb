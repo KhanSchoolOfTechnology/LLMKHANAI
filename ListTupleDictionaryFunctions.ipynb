{
  "nbformat": 4,
  "nbformat_minor": 0,
  "metadata": {
    "colab": {
      "provenance": [],
      "authorship_tag": "ABX9TyMpO8JvLC5MaeF0wXHVvQZL"
    },
    "kernelspec": {
      "name": "python3",
      "display_name": "Python 3"
    },
    "language_info": {
      "name": "python"
    }
  },
  "cells": [
    {
      "cell_type": "code",
      "execution_count": 1,
      "metadata": {
        "colab": {
          "base_uri": "https://localhost:8080/"
        },
        "id": "VHqHcPfb6Nrk",
        "outputId": "067b8a08-4199-4ce5-a8ad-f5601ad5d58c"
      },
      "outputs": [
        {
          "output_type": "stream",
          "name": "stdout",
          "text": [
            "apple\n",
            "banana\n",
            "grape\n"
          ]
        }
      ],
      "source": [
        "fruits = ['apple', 'banana', 'orange', 'grape']\n",
        "print(fruits[0])\n",
        "print(fruits[1])\n",
        "print(fruits[-1])"
      ]
    },
    {
      "cell_type": "code",
      "source": [
        "print(len(fruits))"
      ],
      "metadata": {
        "colab": {
          "base_uri": "https://localhost:8080/"
        },
        "id": "Aa-3c-4Y7e1j",
        "outputId": "0b8de006-13f0-4a63-8c68-8037dca4378e"
      },
      "execution_count": 2,
      "outputs": [
        {
          "output_type": "stream",
          "name": "stdout",
          "text": [
            "4\n"
          ]
        }
      ]
    },
    {
      "cell_type": "code",
      "source": [
        "fruits.append('mango')\n",
        "print(fruits)"
      ],
      "metadata": {
        "colab": {
          "base_uri": "https://localhost:8080/"
        },
        "id": "sjDRAuu17mYB",
        "outputId": "c71ee0dd-465e-4b36-c150-f7a6235a8ba5"
      },
      "execution_count": 3,
      "outputs": [
        {
          "output_type": "stream",
          "name": "stdout",
          "text": [
            "['apple', 'banana', 'orange', 'grape', 'mango']\n"
          ]
        }
      ]
    },
    {
      "cell_type": "code",
      "source": [
        "fruits.insert(1, 'pineapple')\n",
        "print(fruits)"
      ],
      "metadata": {
        "colab": {
          "base_uri": "https://localhost:8080/"
        },
        "id": "S9SnN7QI7v9Q",
        "outputId": "597311db-1b35-4952-b7c0-9f8efc5af915"
      },
      "execution_count": 4,
      "outputs": [
        {
          "output_type": "stream",
          "name": "stdout",
          "text": [
            "['apple', 'pineapple', 'banana', 'orange', 'grape', 'mango']\n"
          ]
        }
      ]
    },
    {
      "cell_type": "code",
      "source": [
        "fruits.remove('banana')\n",
        "print(fruits)"
      ],
      "metadata": {
        "colab": {
          "base_uri": "https://localhost:8080/"
        },
        "id": "SYCBHo9J7-R7",
        "outputId": "715b9bde-0176-4f95-cc2b-fb3c5e3c5e19"
      },
      "execution_count": 5,
      "outputs": [
        {
          "output_type": "stream",
          "name": "stdout",
          "text": [
            "['apple', 'pineapple', 'orange', 'grape', 'mango']\n"
          ]
        }
      ]
    },
    {
      "cell_type": "code",
      "source": [
        "removed_item = fruits.pop(2)\n",
        "print(removed_item)\n",
        "print(fruits)"
      ],
      "metadata": {
        "colab": {
          "base_uri": "https://localhost:8080/"
        },
        "id": "UTSG_ddu8Jlj",
        "outputId": "3bf86c29-2f0c-49fe-8c80-403af6a07ba1"
      },
      "execution_count": 6,
      "outputs": [
        {
          "output_type": "stream",
          "name": "stdout",
          "text": [
            "orange\n",
            "['apple', 'pineapple', 'grape', 'mango']\n"
          ]
        }
      ]
    },
    {
      "cell_type": "markdown",
      "source": [
        "# **Tuple**"
      ],
      "metadata": {
        "id": "U59soxQW8oif"
      }
    },
    {
      "cell_type": "code",
      "source": [
        "empty_tuple = ()\n",
        "\n",
        "fruits_tuple = ('apple', 'banana', 'cherry')\n",
        "\n",
        "single_element_tuple = 'apple',\n",
        "\n",
        "\n",
        "coordinates = (3, 5)\n",
        "print(empty_tuple)\n",
        "print(fruits_tuple)\n",
        "print(single_element_tuple)"
      ],
      "metadata": {
        "colab": {
          "base_uri": "https://localhost:8080/"
        },
        "id": "OtefLr038r4m",
        "outputId": "0b8cf921-ce8d-404d-d086-45ecf3e680b7"
      },
      "execution_count": 8,
      "outputs": [
        {
          "output_type": "stream",
          "name": "stdout",
          "text": [
            "()\n",
            "('apple', 'banana', 'cherry')\n",
            "('apple',)\n"
          ]
        }
      ]
    },
    {
      "cell_type": "code",
      "source": [
        "numbers_list = [1, 2, 3]\n",
        "numbers_tuple = tuple(numbers_list)\n",
        "print(numbers_tuple)"
      ],
      "metadata": {
        "id": "QD0H4rF59TXV",
        "outputId": "561a4acd-249e-4bc3-b6ab-5666e8fd2ee2",
        "colab": {
          "base_uri": "https://localhost:8080/"
        }
      },
      "execution_count": 9,
      "outputs": [
        {
          "output_type": "stream",
          "name": "stdout",
          "text": [
            "(1, 2, 3)\n"
          ]
        }
      ]
    },
    {
      "cell_type": "code",
      "source": [
        "repeated_tuple = (1, 2, 3, 2, 4, 2)\n",
        "count_of_twos = repeated_tuple.count(2)\n",
        "print(count_of_twos)"
      ],
      "metadata": {
        "id": "79cM_fuz9bUp",
        "outputId": "7744c7f2-d84f-4fb2-c37f-4283308908a2",
        "colab": {
          "base_uri": "https://localhost:8080/"
        }
      },
      "execution_count": 10,
      "outputs": [
        {
          "output_type": "stream",
          "name": "stdout",
          "text": [
            "3\n"
          ]
        }
      ]
    },
    {
      "cell_type": "code",
      "source": [
        "index_of_3 = repeated_tuple.index(3)\n",
        "print(index_of_3)  # Output: 2\n"
      ],
      "metadata": {
        "id": "UYOsPd4g99k3",
        "outputId": "75db490e-994c-49b0-8fc0-8b2c629ab4b0",
        "colab": {
          "base_uri": "https://localhost:8080/"
        }
      },
      "execution_count": 11,
      "outputs": [
        {
          "output_type": "stream",
          "name": "stdout",
          "text": [
            "2\n"
          ]
        }
      ]
    }
  ]
}