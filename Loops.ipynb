{
  "nbformat": 4,
  "nbformat_minor": 0,
  "metadata": {
    "colab": {
      "provenance": [],
      "authorship_tag": "ABX9TyNIQw3ohXbnxRCTDEV7x6fF"
    },
    "kernelspec": {
      "name": "python3",
      "display_name": "Python 3"
    },
    "language_info": {
      "name": "python"
    }
  },
  "cells": [
    {
      "cell_type": "markdown",
      "source": [
        "# **Loops**"
      ],
      "metadata": {
        "id": "vN81Rpjgj_dZ"
      }
    },
    {
      "cell_type": "code",
      "source": [
        "for x in range(10):\n",
        "  print(x)"
      ],
      "metadata": {
        "colab": {
          "base_uri": "https://localhost:8080/"
        },
        "id": "ddNQ5b4LkC8v",
        "outputId": "b5fc8177-9bc6-4de3-f43b-40d940336960"
      },
      "execution_count": 1,
      "outputs": [
        {
          "output_type": "stream",
          "name": "stdout",
          "text": [
            "0\n",
            "1\n",
            "2\n",
            "3\n",
            "4\n",
            "5\n",
            "6\n",
            "7\n",
            "8\n",
            "9\n"
          ]
        }
      ]
    },
    {
      "cell_type": "code",
      "source": [
        "for x in range(1, 10 + 1):\n",
        "  print(x)"
      ],
      "metadata": {
        "colab": {
          "base_uri": "https://localhost:8080/"
        },
        "id": "R6Vk-6TukLvI",
        "outputId": "bc62b0ef-7074-48bd-cc81-019d00cdd474"
      },
      "execution_count": 3,
      "outputs": [
        {
          "output_type": "stream",
          "name": "stdout",
          "text": [
            "1\n",
            "2\n",
            "3\n",
            "4\n",
            "5\n",
            "6\n",
            "7\n",
            "8\n",
            "9\n",
            "10\n"
          ]
        }
      ]
    },
    {
      "cell_type": "code",
      "source": [
        "numbers = [1, 2, 3, 4, 5]\n",
        "for num in numbers:\n",
        "  print(num)"
      ],
      "metadata": {
        "colab": {
          "base_uri": "https://localhost:8080/"
        },
        "id": "E5DLdry0kVm1",
        "outputId": "708a20f3-e56a-413f-9e15-18f5ca402085"
      },
      "execution_count": 4,
      "outputs": [
        {
          "output_type": "stream",
          "name": "stdout",
          "text": [
            "1\n",
            "2\n",
            "3\n",
            "4\n",
            "5\n"
          ]
        }
      ]
    },
    {
      "cell_type": "code",
      "source": [
        "for i in range(1, 10 + 1):\n",
        "  if i ==3:\n",
        "    continue\n",
        "  elif i ==7:\n",
        "    break\n",
        "\n",
        "print(i)"
      ],
      "metadata": {
        "colab": {
          "base_uri": "https://localhost:8080/"
        },
        "id": "DDpELltUkjee",
        "outputId": "b02cd7b5-e871-4421-d51c-63a7fde94328"
      },
      "execution_count": 6,
      "outputs": [
        {
          "output_type": "stream",
          "name": "stdout",
          "text": [
            "7\n"
          ]
        }
      ]
    },
    {
      "cell_type": "markdown",
      "source": [
        "# **Factorial**\n",
        "5! = 5 * 4 * 3 * 2 * 1,  1 * 2 * 3 * 4 * 5\n",
        "\n",
        "4! = 4 * 3 * 2 *     1 , 1 * 2 * 3 * 4"
      ],
      "metadata": {
        "id": "cKkRRfaKk-X4"
      }
    },
    {
      "cell_type": "code",
      "source": [
        "number = 5\n",
        "factorial =1\n",
        "for i in range(1, number + 1):\n",
        "  factorial = factorial * i\n",
        "\n",
        "print('Factorial of 5 is', factorial)"
      ],
      "metadata": {
        "colab": {
          "base_uri": "https://localhost:8080/"
        },
        "id": "rbrPBZNclc4j",
        "outputId": "7bb127a7-741d-47f0-c2a2-72ce358ddf1e"
      },
      "execution_count": 7,
      "outputs": [
        {
          "output_type": "stream",
          "name": "stdout",
          "text": [
            "Factorial of 5 is 120\n"
          ]
        }
      ]
    },
    {
      "cell_type": "code",
      "source": [
        "for numbers in range(1, 4):\n",
        "  factorial = 1\n",
        "  for i in range(1, numbers + 1):\n",
        "    factorial*=i\n",
        "  print(\"Factorial of\", numbers, \"is\", factorial)\n",
        "\n",
        "\n",
        "\n",
        "\n"
      ],
      "metadata": {
        "colab": {
          "base_uri": "https://localhost:8080/"
        },
        "id": "LZty6vnDmFqW",
        "outputId": "728dd872-1a4f-4253-fb84-6fe2f32d2a0a"
      },
      "execution_count": 12,
      "outputs": [
        {
          "output_type": "stream",
          "name": "stdout",
          "text": [
            "Factorial of 1 is 1\n",
            "Factorial of 2 is 2\n",
            "Factorial of 3 is 6\n"
          ]
        }
      ]
    },
    {
      "cell_type": "markdown",
      "source": [
        "# **While Loop**"
      ],
      "metadata": {
        "id": "JsKP_wSBoFYd"
      }
    },
    {
      "cell_type": "code",
      "source": [
        "count = 0\n",
        "while count < 5:\n",
        "  print('Count is', count)\n",
        "  count+=1\n",
        ""
      ],
      "metadata": {
        "colab": {
          "base_uri": "https://localhost:8080/"
        },
        "id": "lCIoFm0-oi8H",
        "outputId": "84bf51b1-3ec2-483b-e900-ab642bf10076"
      },
      "execution_count": 15,
      "outputs": [
        {
          "output_type": "stream",
          "name": "stdout",
          "text": [
            "Count is 0\n",
            "Count is 1\n",
            "Count is 2\n",
            "Count is 3\n",
            "Count is 4\n"
          ]
        }
      ]
    },
    {
      "cell_type": "code",
      "source": [
        "count = 0\n",
        "while count < 5:\n",
        "  count+=1\n",
        "  print('Count is', count)"
      ],
      "metadata": {
        "colab": {
          "base_uri": "https://localhost:8080/"
        },
        "id": "8bBZMX9WoJam",
        "outputId": "6e06e69d-bfcd-4fa6-d603-6b4112bb1898"
      },
      "execution_count": 14,
      "outputs": [
        {
          "output_type": "stream",
          "name": "stdout",
          "text": [
            "Count is 1\n",
            "Count is 2\n",
            "Count is 3\n",
            "Count is 4\n",
            "Count is 5\n"
          ]
        }
      ]
    },
    {
      "cell_type": "code",
      "source": [
        "password = 'secure'\n",
        "input_password = ''\n",
        "while input_password !=password:\n",
        "   input_password = input(\"Enter your password:\")\n",
        "\n",
        "print('Access granted')"
      ],
      "metadata": {
        "colab": {
          "base_uri": "https://localhost:8080/"
        },
        "id": "7LnUSlwTorLc",
        "outputId": "74675a28-e8a6-466c-b769-bd1dc96d3664"
      },
      "execution_count": 17,
      "outputs": [
        {
          "output_type": "stream",
          "name": "stdout",
          "text": [
            "Enter your password:hi\n",
            "Enter your password:hi\n",
            "Enter your password:hi\n",
            "Enter your password:dhfhhf\n",
            "Enter your password:secure\n",
            "Access granted\n"
          ]
        }
      ]
    }
  ]
}