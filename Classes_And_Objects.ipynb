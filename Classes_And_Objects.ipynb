{
  "nbformat": 4,
  "nbformat_minor": 0,
  "metadata": {
    "colab": {
      "provenance": [],
      "authorship_tag": "ABX9TyNGPr5uqm9u/4eXsacKqjYS"
    },
    "kernelspec": {
      "name": "python3",
      "display_name": "Python 3"
    },
    "language_info": {
      "name": "python"
    }
  },
  "cells": [
    {
      "cell_type": "code",
      "execution_count": 1,
      "metadata": {
        "colab": {
          "base_uri": "https://localhost:8080/"
        },
        "id": "z0Mmpk7vHe1N",
        "outputId": "ba37dbc2-55af-4e9b-f06d-e7bfab303e2c"
      },
      "outputs": [
        {
          "output_type": "stream",
          "name": "stdout",
          "text": [
            "Name: Alice, Age: 20\n",
            "Name: Bob, Age: 22\n"
          ]
        }
      ],
      "source": [
        "class Student:\n",
        "    def __init__(self, name, age):\n",
        "        self.name = name\n",
        "        self.age = age\n",
        "\n",
        "    def display_info(self):\n",
        "        print(f\"Name: {self.name}, Age: {self.age}\")\n",
        "\n",
        "# Creating student objects\n",
        "student1 = Student(\"Alice\", 20)\n",
        "student2 = Student(\"Bob\", 22)\n",
        "\n",
        "# Displaying student information\n",
        "student1.display_info()\n",
        "student2.display_info()\n"
      ]
    },
    {
      "cell_type": "code",
      "source": [
        "class BankAccount:\n",
        "    def __init__(self, balance=0):\n",
        "        self.balance = balance\n",
        "\n",
        "    def deposit(self, amount):\n",
        "        self.balance += amount\n",
        "        print(f\"Deposited ${amount}. New balance: ${self.balance}\")\n",
        "\n",
        "    def withdraw(self, amount):\n",
        "        if self.balance >= amount:\n",
        "            self.balance -= amount\n",
        "            print(f\"Withdrew ${amount}. New balance: ${self.balance}\")\n",
        "        else:\n",
        "            print(\"Insufficient funds.\")\n",
        "\n",
        "    def check_balance(self):\n",
        "        print(f\"Current balance: ${self.balance}\")\n",
        "\n",
        "# Creating a bank account\n",
        "account = BankAccount()\n",
        "\n",
        "# Making transactions\n",
        "account.deposit(1000)     # Output: Deposited $1000. New balance: $1000\n",
        "account.withdraw(500)     # Output: Withdrew $500. New balance: $500\n",
        "account.check_balance()   # Output: Current balance: $500\n",
        "account.withdraw(1000)"
      ],
      "metadata": {
        "colab": {
          "base_uri": "https://localhost:8080/"
        },
        "id": "iV471EonHy7D",
        "outputId": "8b8d474c-33df-41fd-a6fb-ec8573ffd65a"
      },
      "execution_count": 2,
      "outputs": [
        {
          "output_type": "stream",
          "name": "stdout",
          "text": [
            "Deposited $1000. New balance: $1000\n",
            "Withdrew $500. New balance: $500\n",
            "Current balance: $500\n",
            "Insufficient funds.\n"
          ]
        }
      ]
    },
    {
      "cell_type": "code",
      "source": [
        "class Car:\n",
        "    def __init__(self, make, model):\n",
        "        self.make = make\n",
        "        self.model = model\n",
        "        self.engine_started = False\n",
        "\n",
        "    def start_engine(self):\n",
        "        if not self.engine_started:\n",
        "            self.engine_started = True\n",
        "            print(\"Engine started.\")\n",
        "        else:\n",
        "            print(\"Engine is already running.\")\n",
        "\n",
        "# Creating car objects\n",
        "car1 = Car(\"Toyota\", \"Camry\")\n",
        "car2 = Car(\"Honda\", \"Civic\")\n",
        "\n",
        "# Starting the engine\n",
        "car1.start_engine()  # Output: Engine started.\n",
        "car2.start_engine()  # Output: Engine started.\n",
        "car2.start_engine()  # Output: Engine is already running.\n"
      ],
      "metadata": {
        "colab": {
          "base_uri": "https://localhost:8080/"
        },
        "id": "HWMgLOEqI_ha",
        "outputId": "fa049994-ade1-4988-c968-62f3fc582b19"
      },
      "execution_count": 3,
      "outputs": [
        {
          "output_type": "stream",
          "name": "stdout",
          "text": [
            "Engine started.\n",
            "Engine started.\n",
            "Engine is already running.\n"
          ]
        }
      ]
    }
  ]
}