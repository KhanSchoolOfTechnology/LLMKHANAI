{
  "nbformat": 4,
  "nbformat_minor": 0,
  "metadata": {
    "colab": {
      "provenance": [],
      "authorship_tag": "ABX9TyO32a+zo+fV96mk3/TeltJc",
      "include_colab_link": true
    },
    "kernelspec": {
      "name": "python3",
      "display_name": "Python 3"
    },
    "language_info": {
      "name": "python"
    }
  },
  "cells": [
    {
      "cell_type": "markdown",
      "metadata": {
        "id": "view-in-github",
        "colab_type": "text"
      },
      "source": [
        "<a href=\"https://colab.research.google.com/github/KhanSchoolOfTechnology/LLMKHANAI/blob/main/DecisionMaking.ipynb\" target=\"_parent\"><img src=\"https://colab.research.google.com/assets/colab-badge.svg\" alt=\"Open In Colab\"/></a>"
      ]
    },
    {
      "cell_type": "markdown",
      "source": [
        "# **Decision Making**"
      ],
      "metadata": {
        "id": "ZulBH04qV4Se"
      }
    },
    {
      "cell_type": "code",
      "source": [
        "weather_forecast = 'rainy'\n",
        "if weather_forecast == 'rainy':\n",
        "  print('Grab an umbrella')"
      ],
      "metadata": {
        "colab": {
          "base_uri": "https://localhost:8080/"
        },
        "id": "7omAlZBHWEYw",
        "outputId": "25a08598-c664-4689-b73c-e11248315033"
      },
      "execution_count": 1,
      "outputs": [
        {
          "output_type": "stream",
          "name": "stdout",
          "text": [
            "Grab an umbrella\n"
          ]
        }
      ]
    },
    {
      "cell_type": "code",
      "source": [
        "temperature = 15\n",
        "if temperature <=10:\n",
        "  print('Wear a Jacket')\n",
        "else:\n",
        "  print('Wear a T-shirt')"
      ],
      "metadata": {
        "colab": {
          "base_uri": "https://localhost:8080/"
        },
        "id": "OIh2xzMdWWZB",
        "outputId": "224e1eb4-ffd0-4fb7-d614-4f2d5c260a3c"
      },
      "execution_count": 4,
      "outputs": [
        {
          "output_type": "stream",
          "name": "stdout",
          "text": [
            "Wear a T-shirt\n"
          ]
        }
      ]
    },
    {
      "cell_type": "markdown",
      "source": [
        "# **Grading Example**"
      ],
      "metadata": {
        "id": "OBwFCw7BWwaJ"
      }
    },
    {
      "cell_type": "code",
      "source": [
        "score = 78\n",
        "if score >=90:\n",
        "  grade = 'A'\n",
        "elif score >=80:\n",
        "  grade = 'B'\n",
        "elif score >=70:\n",
        "  grade = 'C'\n",
        "elif score >=60:\n",
        "  grade = 'D'\n",
        "else:\n",
        "  grade = 'F'\n",
        "\n",
        "\n",
        "print(f\"Student's score : {score}\")\n",
        "print(f\"Grade : {grade}\")"
      ],
      "metadata": {
        "colab": {
          "base_uri": "https://localhost:8080/"
        },
        "id": "ksL__RmcW4F9",
        "outputId": "e15abd96-311a-4c3a-a1ec-da3a1e250562"
      },
      "execution_count": 5,
      "outputs": [
        {
          "output_type": "stream",
          "name": "stdout",
          "text": [
            "Student's score : 78\n",
            "Grade : C\n"
          ]
        }
      ]
    },
    {
      "cell_type": "markdown",
      "source": [
        "# **Practical Example (Grading)**"
      ],
      "metadata": {
        "id": "WOzTUydKXn-d"
      }
    },
    {
      "cell_type": "code",
      "source": [
        "physics_marks = int(input('Enter marks in physics :'))\n",
        "maths_marks = int(input('Enter marks in maths :'))\n",
        "cs_marks = int(input('Enter marks in computer science:'))\n",
        "\n",
        "#Calculate total marks and percentage\n",
        "\n",
        "total_marks = physics_marks + maths_marks + cs_marks\n",
        "total_subjects = 3\n",
        "max_marks_per_subject = 100\n",
        "\n",
        "#Percentage Formula\n",
        "\n",
        "max_total_marks = max_marks_per_subject * total_subjects\n",
        "percentage = (total_marks / max_total_marks) * 100\n",
        "\n",
        "if percentage >=90:\n",
        "  grade = 'A'\n",
        "elif percentage >=80:\n",
        "  grade = 'B'\n",
        "elif percentage >=70:\n",
        "  grade = 'C'\n",
        "elif percentage >=60:\n",
        "  grade = 'D'\n",
        "else:\n",
        "  grade = 'F'\n",
        "\n",
        "print('\\n Subject-wise Marks:')\n",
        "print(f\"physics:{physics_marks}\")\n",
        "print(f\"Maths:{maths_marks}\")\n",
        "print(f\"Comp-Sci:{cs_marks}\")\n",
        "\n",
        "\n",
        "print('\\nResults:')\n",
        "print(f\"Total Marks :{total_marks}/{max_total_marks}\")\n",
        "print(f\"percentage : {percentage:.2f}%\")\n",
        "print(f\"Grade:{grade}\")\n"
      ],
      "metadata": {
        "colab": {
          "base_uri": "https://localhost:8080/"
        },
        "id": "vl03h66YX593",
        "outputId": "23a83026-1357-4399-c1a2-3f3f52518b0f"
      },
      "execution_count": 6,
      "outputs": [
        {
          "output_type": "stream",
          "name": "stdout",
          "text": [
            "Enter marks in physics :60\n",
            "Enter marks in maths :50\n",
            "Enter marks in computer science:73\n",
            "\n",
            " Subject-wise Marks:\n",
            "physics:60\n",
            "Maths:50\n",
            "Comp-Sci:73\n",
            "\n",
            "Results:\n",
            "Total Marks :183/300\n",
            "percentage : 61.00%\n",
            "Grade:D\n"
          ]
        }
      ]
    }
  ]
}